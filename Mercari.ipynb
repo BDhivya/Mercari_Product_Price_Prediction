{
  "cells": [
    {
      "metadata": {
        "_cell_guid": "b1076dfc-b9ad-4769-8c92-a6c4dae69d19",
        "_uuid": "8f2839f25d086af736a60e9eeb907d3b93b6e0e5",
        "trusted": false,
        "collapsed": true
      },
      "cell_type": "code",
      "source": "# This Python 3 environment comes with many helpful analytics libraries installed\n# It is defined by the kaggle/python docker image: https://github.com/kaggle/docker-python\n# For example, here's several helpful packages to load in \n\nimport numpy as np # linear algebra\nimport pandas as pd # data processing, CSV file I/O (e.g. pd.read_csv)\n\n# Input data files are available in the \"../input/\" directory.\n# For example, running this (by clicking run or pressing Shift+Enter) will list the files in the input directory\n\nimport os\nprint(os.listdir(\"../input\"))\n\n# Any results you write to the current directory are saved as output.",
      "execution_count": null,
      "outputs": []
    },
    {
      "metadata": {
        "_cell_guid": "79c7e3d0-c299-4dcb-8224-4455121ee9b0",
        "collapsed": true,
        "_uuid": "d629ff2d2480ee46fbb7e2d37f6b5fab8052498a",
        "trusted": false
      },
      "cell_type": "code",
      "source": "import pandas as pd",
      "execution_count": null,
      "outputs": []
    },
    {
      "metadata": {
        "_cell_guid": "39f65850-a490-4a3c-a23e-ae1dc31c619e",
        "collapsed": true,
        "_uuid": "373bc35fa6ed68f5cccbbbff6ad9419158b580d0",
        "trusted": false
      },
      "cell_type": "code",
      "source": "x_train = pd.read_csv('../input/x_train.csv', sep = ',',index_col=0)",
      "execution_count": null,
      "outputs": []
    },
    {
      "metadata": {
        "_cell_guid": "d7635160-5ac1-4420-b312-549a4ba94221",
        "collapsed": true,
        "_uuid": "67f5f142922bdc9cfc9e424bcaa72f96251be34f",
        "trusted": false
      },
      "cell_type": "code",
      "source": "y_train = pd.read_csv('../input/y_train.csv', sep = ',',index_col=0)",
      "execution_count": null,
      "outputs": []
    },
    {
      "metadata": {
        "_cell_guid": "4d85d671-594f-48d9-9b35-65282717b0f6",
        "collapsed": true,
        "_uuid": "da82d92cd4d567eca64bb6401711717b03b947ed",
        "trusted": false
      },
      "cell_type": "code",
      "source": "x_test = pd.read_csv('../input/x_test.csv', sep = ',',index_col=0)",
      "execution_count": null,
      "outputs": []
    },
    {
      "metadata": {
        "_cell_guid": "e7cc2a31-f337-4e6b-afff-2811d1a43123",
        "collapsed": true,
        "_uuid": "2e56b4467458a3422d3e9560347dc90d80c6bf55",
        "trusted": false
      },
      "cell_type": "code",
      "source": "y_test = pd.read_csv('../input/y_test.csv', sep = ',',index_col=0)",
      "execution_count": null,
      "outputs": []
    },
    {
      "metadata": {
        "_cell_guid": "a2126414-4a0b-468f-9ce7-f822b4b97037",
        "collapsed": true,
        "_uuid": "8106134a8ada08c950dc239b25901485c30f9ccc",
        "trusted": false
      },
      "cell_type": "code",
      "source": "x_train = pd.read_csv('../input/x_train.csv', sep = ',',index_col=0)\ny_train = pd.read_csv('../input/y_train.csv', sep = ',',index_col=0)\nx_test = pd.read_csv('../input/x_test.csv', sep = ',',index_col=0)\ny_test = pd.read_csv('../input/y_test.csv', sep = ',',index_col=0)",
      "execution_count": null,
      "outputs": []
    },
    {
      "metadata": {
        "_cell_guid": "3faa825f-6d04-418a-ba18-4e720e06a5d2",
        "_uuid": "4141c090dddf60312e6508e966ec6a7e3718ea61",
        "scrolled": true,
        "trusted": false,
        "collapsed": true
      },
      "cell_type": "code",
      "source": "x_train.head()",
      "execution_count": null,
      "outputs": []
    },
    {
      "metadata": {
        "_cell_guid": "24f16bad-334a-4758-84ef-8b08e7868e5a",
        "collapsed": true,
        "_uuid": "668050d56a7cf52e2ad136d4d859c89cf37b85c9",
        "trusted": false
      },
      "cell_type": "code",
      "source": "",
      "execution_count": null,
      "outputs": []
    },
    {
      "metadata": {
        "_cell_guid": "bc330cdb-1dda-4057-9343-acff8c02b1af",
        "_uuid": "7bbd80741e847f24589a00782f0e5ae4ae91b19d",
        "trusted": false,
        "collapsed": true
      },
      "cell_type": "code",
      "source": "x_train['item_condition_id'].value_counts()",
      "execution_count": null,
      "outputs": []
    },
    {
      "metadata": {
        "_cell_guid": "890944ae-8227-41d6-8424-38bdee156d26",
        "_uuid": "3c3cba59867cb34a2b08657a0cda7627b8b5d5bf",
        "trusted": false,
        "collapsed": true
      },
      "cell_type": "code",
      "source": "y_train.head()",
      "execution_count": null,
      "outputs": []
    },
    {
      "metadata": {
        "_cell_guid": "cf7db1d7-5a43-45b5-8615-caf54983d8e3",
        "_uuid": "f79b1329f2c61d1927b0cc174188901f9b549b05",
        "trusted": false,
        "collapsed": true
      },
      "cell_type": "code",
      "source": "temp = (x_train['item_condition_id']==1).sum()\nx = (y_train.loc[x_train['item_condition_id']==1].sum(axis = 0)/(x_train['item_condition_id']==1).sum())[0]\nz = x_train['item_condition_id'] == 1\nx_train.item_condition_id.loc[z] = x",
      "execution_count": null,
      "outputs": []
    },
    {
      "metadata": {
        "_cell_guid": "a147d8e0-c214-4990-b2a2-287d31b004eb",
        "collapsed": true,
        "_uuid": "382e93989747c3510e403e83cf14fa9a9575742b",
        "trusted": false
      },
      "cell_type": "code",
      "source": "x_train.head()",
      "execution_count": null,
      "outputs": []
    },
    {
      "metadata": {
        "_cell_guid": "351207fe-fd51-45c4-9bef-2b0b42a38247",
        "collapsed": true,
        "_uuid": "524567b8e2344d4eb75b0977a30bcd9c9233ca57",
        "trusted": false
      },
      "cell_type": "code",
      "source": "temp = (x_train['item_condition_id']==2).sum()\nx = (y_train.loc[x_train['item_condition_id']==2].sum(axis = 0)/(x_train['item_condition_id']==2).sum())[0]\nz = x_train['item_condition_id'] == 2\nx_train.item_condition_id.loc[z] = x",
      "execution_count": null,
      "outputs": []
    },
    {
      "metadata": {
        "_cell_guid": "3ada8a5f-ae87-456e-85fb-66c6e1d2c2dd",
        "collapsed": true,
        "_uuid": "531e3664af831d41f26bd4b61234ff6739bb6698",
        "trusted": false
      },
      "cell_type": "code",
      "source": "temp = (x_train['item_condition_id']==3).sum()\nx = (y_train.loc[x_train['item_condition_id']==3].sum(axis = 0)/(x_train['item_condition_id']==3).sum())[0]\nz = x_train['item_condition_id'] == 3\nx_train.item_condition_id.loc[z] = x",
      "execution_count": null,
      "outputs": []
    },
    {
      "metadata": {
        "_cell_guid": "1898ec9c-83ae-4788-9029-187b9a913615",
        "collapsed": true,
        "_uuid": "3bf81129acc664de8556892e98548e992b3d23a8",
        "trusted": false
      },
      "cell_type": "code",
      "source": "temp = (x_train['item_condition_id']==4).sum()\nx = (y_train.loc[x_train['item_condition_id']==4].sum(axis = 0)/(x_train['item_condition_id']==4).sum())[0]\nz = x_train['item_condition_id'] == 4\nx_train.item_condition_id.loc[z] = x",
      "execution_count": null,
      "outputs": []
    },
    {
      "metadata": {
        "_cell_guid": "c3fc8f43-88f6-409c-997e-16ded7476dde",
        "collapsed": true,
        "_uuid": "c6733c90ee7039c349bb09f62a47a795a5edd24f",
        "trusted": false
      },
      "cell_type": "code",
      "source": "temp = (x_train['item_condition_id']==2).sum()\nx = (y_train.loc[x_train['item_condition_id']==2].sum(axis = 0)/(x_train['item_condition_id']==2).sum())[0]\nz = x_train['item_condition_id'] == 2\nx_train.item_condition_id.loc[z] = x",
      "execution_count": null,
      "outputs": []
    },
    {
      "metadata": {
        "_cell_guid": "cee54866-8791-40f1-83df-54b6151c57e2",
        "collapsed": true,
        "_uuid": "9b35889f5a0b0afa2114c633a9530632f574f813",
        "trusted": false
      },
      "cell_type": "code",
      "source": "temp = (x_train['item_condition_id']==5).sum()\nx = (y_train.loc[x_train['item_condition_id']==5].sum(axis = 0)/(x_train['item_condition_id']==5).sum())[0]\nz = x_train['item_condition_id'] == 5\nx_train.item_condition_id.loc[z] = x",
      "execution_count": null,
      "outputs": []
    },
    {
      "metadata": {
        "_cell_guid": "6d2848ab-2cb2-4f48-ad0a-98f6cf7fbd60",
        "collapsed": true,
        "_uuid": "7c166a7600f76e72f18f5c446bca781795cb249b",
        "trusted": false
      },
      "cell_type": "code",
      "source": "x_train.head()",
      "execution_count": null,
      "outputs": []
    },
    {
      "metadata": {
        "_cell_guid": "70edeb3d-ccb2-4250-9599-1e50a02a50dd",
        "collapsed": true,
        "_uuid": "25458d12340eb23a539dc35456cf26880a2c90ab",
        "trusted": false
      },
      "cell_type": "code",
      "source": "",
      "execution_count": null,
      "outputs": []
    },
    {
      "metadata": {
        "_cell_guid": "01938985-0ae9-47be-a097-7e17d4df6fcd",
        "_uuid": "4d398956159e4806a9cff34a56ef55b477661c6c"
      },
      "cell_type": "markdown",
      "source": "## Shipping Response Coding"
    },
    {
      "metadata": {
        "_cell_guid": "8e7b1025-4154-4058-8aa4-eb51b5180b6b",
        "collapsed": true,
        "_uuid": "fc805593b3bbd5c35bcd76aa9dc4a58fc069b97a",
        "trusted": false
      },
      "cell_type": "code",
      "source": "temp = (x_train['shipping']==0).sum()\nx = (y_train.loc[x_train['shipping']==0].sum(axis = 0)/(x_train['shipping']==0).sum())[0]\nz = x_train['shipping']==0\nx_train.shipping.loc[z] = x",
      "execution_count": null,
      "outputs": []
    },
    {
      "metadata": {
        "_cell_guid": "26008d2e-036e-4731-bf24-0094395126d4",
        "collapsed": true,
        "_uuid": "cb41b9a2edea98a4c0ca613afc1412efaeab7222",
        "trusted": false
      },
      "cell_type": "code",
      "source": "temp = (x_train['shipping']==1).sum()\nx = (y_train.loc[x_train['shipping']==1].sum(axis = 0)/(x_train['shipping']==1).sum())[0]\nz = x_train['shipping']==1\nx_train.shipping.loc[z] = x",
      "execution_count": null,
      "outputs": []
    },
    {
      "metadata": {
        "_cell_guid": "4654257b-4bb2-44bf-a321-bd3939b87cb0",
        "collapsed": true,
        "_uuid": "2c063845e2f55d4459cf26ae7986621c7037b072",
        "trusted": false
      },
      "cell_type": "code",
      "source": "x_train.head()",
      "execution_count": null,
      "outputs": []
    },
    {
      "metadata": {
        "_cell_guid": "628e955c-1f8e-4cb9-9dfc-46b9f1418ebe",
        "collapsed": true,
        "_uuid": "2736190d1499327b45c6d65a4c28af27f9c4fb61",
        "trusted": false
      },
      "cell_type": "code",
      "source": "def split_cat(text):\n    try: return text.split(\"/\")\n    except: return (\"No Label\", \"No Label\", \"No Label\")",
      "execution_count": null,
      "outputs": []
    },
    {
      "metadata": {
        "_cell_guid": "fe755235-5252-4914-bbff-15940541947a",
        "collapsed": true,
        "_uuid": "ad3b1b48ed171cd32eed1292c7030c5edda1ed12",
        "trusted": false
      },
      "cell_type": "code",
      "source": "# splitting the raw category into main and sub sub categories\nx_train['main_cat'], x_train['subcat_1'], x_train['subcat_2'] = \\\nzip(*x_train['category_name'].apply(lambda x: split_cat(x)))\n# sanity checking the train for new categories\nx_train.head()",
      "execution_count": null,
      "outputs": []
    },
    {
      "metadata": {
        "_cell_guid": "25beceb8-43f1-4ad7-98ec-a6e6a15d3837",
        "collapsed": true,
        "_uuid": "566598e4847d7c2f7b9d1f2df520120738d092cc",
        "trusted": false
      },
      "cell_type": "code",
      "source": "x_train['main_cat'].nunique()",
      "execution_count": null,
      "outputs": []
    },
    {
      "metadata": {
        "_cell_guid": "1d44e1fc-3fdf-4e4b-8709-80e4fc9f5ba9",
        "collapsed": true,
        "_uuid": "7aa58a919347c25886b3ae6cca890b2254b44407",
        "trusted": false
      },
      "cell_type": "code",
      "source": "x_train['subcat_1'].nunique()",
      "execution_count": null,
      "outputs": []
    },
    {
      "metadata": {
        "_cell_guid": "fb771168-9ca7-4a5d-8ca6-74e8c1c26685",
        "collapsed": true,
        "_uuid": "6ff0c3a9a506e1f78b1ef373ddd9c54f67a6e4c1",
        "trusted": false
      },
      "cell_type": "code",
      "source": "x_train['subcat_2'].nunique()",
      "execution_count": null,
      "outputs": []
    },
    {
      "metadata": {
        "_cell_guid": "e6653fd8-fb88-4be2-a0c6-ee74692e1f96",
        "collapsed": true,
        "_uuid": "cc23d8d8fac3eab809d38c49b2b8b56b7ad15a01",
        "trusted": false
      },
      "cell_type": "code",
      "source": "temp = (x_train['shipping']==0).sum()\nx = (y_train.loc[x_train['shipping']==0].sum(axis = 0)/(x_train['shipping']==0).sum())[0]\nz = x_train['shipping']==0\nx_train.shipping.loc[z] = x",
      "execution_count": null,
      "outputs": []
    },
    {
      "metadata": {
        "_cell_guid": "23497da0-b00f-4795-9451-d7a86cedb851",
        "collapsed": true,
        "_uuid": "164804bf1a65f9f4b4e2abf75f651aaa6c97ef41",
        "trusted": false
      },
      "cell_type": "code",
      "source": "for cat in x_train['main_cat'].unique():\n    temp =(x_train['main_cat']==cat).sum()\n    x = (y_train.loc[x_train['main_cat']==cat].sum(axis = 0)/(x_train['main_cat']==cat).sum())[0]\n    z = x_train['main_cat']==cat\n    x_train.main_cat.loc[z] = x",
      "execution_count": null,
      "outputs": []
    },
    {
      "metadata": {
        "_cell_guid": "e74dc0a7-12c8-4e12-97a1-93acf87545b6",
        "collapsed": true,
        "_uuid": "7b2eaa0e87614e759565bd267ea1a79b50c13351",
        "trusted": false
      },
      "cell_type": "code",
      "source": "x_train.head()",
      "execution_count": null,
      "outputs": []
    },
    {
      "metadata": {
        "_cell_guid": "bdccda90-7427-4b91-8bef-ad0545e1eb52",
        "collapsed": true,
        "_uuid": "0b633aa36a0fbdbae3c0c47b7fd236eddf545ebd",
        "trusted": false
      },
      "cell_type": "code",
      "source": "for cat in x_train['subcat_1'].unique():\n    temp =(x_train['subcat_1']==cat).sum()\n    x = (y_train.loc[x_train['subcat_1']==cat].sum(axis = 0)/(x_train['subcat_1']==cat).sum())[0]\n    z = x_train['subcat_1']==cat\n    x_train.subcat_1.loc[z] = x",
      "execution_count": null,
      "outputs": []
    },
    {
      "metadata": {
        "_cell_guid": "5d7cc78d-2231-4330-87e0-e3151c1456df",
        "collapsed": true,
        "_uuid": "0de46d68e1f10c6b63db3f553108b6efd7666a4c",
        "trusted": false
      },
      "cell_type": "code",
      "source": "for cat in x_train['subcat_2'].unique():\n    temp =(x_train['subcat_2']==cat).sum()\n    x = (y_train.loc[x_train['subcat_2']==cat].sum(axis = 0)/(x_train['subcat_2']==cat).sum())[0]\n    z = x_train['subcat_2']==cat\n    x_train.subcat_2.loc[z] = x",
      "execution_count": null,
      "outputs": []
    },
    {
      "metadata": {
        "_cell_guid": "4fb25266-e16c-411c-b6ee-cd233840d6c2",
        "collapsed": true,
        "_uuid": "e3ab42390c82ae329d7f464a2bcc68fd5c661013",
        "trusted": false
      },
      "cell_type": "code",
      "source": "x_train.head()",
      "execution_count": null,
      "outputs": []
    },
    {
      "metadata": {
        "_cell_guid": "e10b812e-de6b-4a47-9160-aa9229e174ed",
        "collapsed": true,
        "_uuid": "9e5721bfd0309d16c9e0f724531ba8f556ce8038",
        "trusted": false
      },
      "cell_type": "code",
      "source": "x_train['brand_name'].nunique()",
      "execution_count": null,
      "outputs": []
    },
    {
      "metadata": {
        "_cell_guid": "5e9df2c7-03dc-4dc9-a605-c99a6c00fdce",
        "collapsed": true,
        "_uuid": "bea80981b21329bc313732a7fde399489742204f",
        "trusted": false
      },
      "cell_type": "code",
      "source": "",
      "execution_count": null,
      "outputs": []
    },
    {
      "metadata": {
        "_cell_guid": "21e5db1b-c056-4ef0-aa90-eee5d57380e6",
        "collapsed": true,
        "_uuid": "87492fca9cfad926416ccf1a83bd73f7ba4a2908",
        "trusted": false
      },
      "cell_type": "code",
      "source": "mean = (y_train.mean())[0]",
      "execution_count": null,
      "outputs": []
    },
    {
      "metadata": {
        "_cell_guid": "15922f79-9036-441a-aa7e-9ef0a4c0def2",
        "collapsed": true,
        "_uuid": "c27e81c215ace8706305ac9262543df81d9600ea",
        "trusted": false
      },
      "cell_type": "code",
      "source": "counter = 0\nfor cat in x_train['brand_name'].unique():\n    counter+=1\n    if(counter == 500):\n        print(\"500 iterations completed\")\n        counter = 0\n    temp =(x_train['brand_name']==cat).sum()\n    x = (y_train.loc[x_train['brand_name']==cat].sum(axis = 0)/(x_train['brand_name']==cat).sum())[0]\n    z = x_train['brand_name']==cat\n    x_train.brand_name.loc[z] = x",
      "execution_count": null,
      "outputs": []
    },
    {
      "metadata": {
        "_cell_guid": "e0581b5c-132f-4276-a3ec-58409e9a36e8",
        "collapsed": true,
        "_uuid": "a940d6d7f6e869ce874b3711e39087d906dabb93",
        "trusted": false
      },
      "cell_type": "code",
      "source": "x_train.head()",
      "execution_count": null,
      "outputs": []
    },
    {
      "metadata": {
        "_cell_guid": "ef201f6a-f602-4282-a8ae-25a434dacb6e",
        "collapsed": true,
        "_uuid": "a3031b10af25fcd30dee9a238aa008434bb73e1f",
        "trusted": false
      },
      "cell_type": "code",
      "source": "x_train['brand_name'] = x_train.apply(\n    lambda row: mean if np.isnan(row['brand_name']) else row['brand_name'],\n    axis=1\n)",
      "execution_count": null,
      "outputs": []
    },
    {
      "metadata": {
        "_cell_guid": "8075972b-02c3-4d5a-b780-0bbc9d250de1",
        "collapsed": true,
        "_uuid": "fbe91c2d7469d51f29dbebbe365847f41cf01548",
        "trusted": false
      },
      "cell_type": "code",
      "source": "x_train.head()",
      "execution_count": null,
      "outputs": []
    },
    {
      "metadata": {
        "_cell_guid": "1cc108e0-47ff-44d8-ba89-0f16f19811c4",
        "collapsed": true,
        "_uuid": "e256a1319f7846a1ee7d79bcf8e4c8591a3a75be",
        "trusted": false
      },
      "cell_type": "code",
      "source": "",
      "execution_count": null,
      "outputs": []
    },
    {
      "metadata": {
        "_cell_guid": "9ad55fe2-92d4-439e-bb8f-079c3e4133cd",
        "collapsed": true,
        "_uuid": "f16d5aeaf98458071ecc39cfb7a3da5f879bd87b",
        "trusted": false
      },
      "cell_type": "code",
      "source": "from sklearn.feature_extraction import stop_words\nfrom nltk.tokenize import word_tokenize, sent_tokenize",
      "execution_count": null,
      "outputs": []
    },
    {
      "metadata": {
        "_cell_guid": "bc938522-7091-4630-baa7-e59a4d5b7e31",
        "collapsed": true,
        "_uuid": "14d765098d5d01820fd635657cb3c1f4565a19ea",
        "trusted": false
      },
      "cell_type": "code",
      "source": "from nltk.corpus import stopwords",
      "execution_count": null,
      "outputs": []
    },
    {
      "metadata": {
        "_cell_guid": "62b10315-62e8-4567-93c8-7fc57d3d2999",
        "collapsed": true,
        "_uuid": "4b5bf5fbcb6ea8f7be56b39fd7f21c89f79ed39f",
        "trusted": false
      },
      "cell_type": "code",
      "source": "import re",
      "execution_count": null,
      "outputs": []
    },
    {
      "metadata": {
        "_cell_guid": "6481b7c1-9011-4654-942c-b1034484f7d3",
        "collapsed": true,
        "_uuid": "9591a4113598a4b381b177cf39373995822971ba",
        "trusted": false
      },
      "cell_type": "code",
      "source": "stop = set(stopwords.words('english'))\ndef tokenizeW(text):\n    \"\"\"\n    sent_tokenize(): segment text into sentences\n    word_tokenize(): break sentences into words\n    \"\"\"\n    try: \n        regex = re.compile('[^A-Za-z0-9]+')\n        text = regex.sub(\" \", text) # remove punctuation\n        \n        tokens_ = [word_tokenize(s) for s in sent_tokenize(text)]\n        tokens = []\n        for token_by_sent in tokens_:\n            tokens += token_by_sent\n        tokens = list(filter(lambda t: t.lower() not in stop, tokens))\n        filtered_tokens = [w for w in tokens if re.search('[a-zA-Z]', w)]\n        filtered_tokens = [w.lower() for w in filtered_tokens]\n        \n        return filtered_tokens\n            \n    except TypeError as e: print(text,e)",
      "execution_count": null,
      "outputs": []
    },
    {
      "metadata": {
        "_cell_guid": "12748feb-017a-469f-8f34-3219f0c15f86",
        "_uuid": "c529f69a9d6cee7331763c7776fa142e8f3b5ab2",
        "trusted": false,
        "collapsed": true
      },
      "cell_type": "code",
      "source": "x_train['item_description'].isnull().sum()",
      "execution_count": null,
      "outputs": []
    },
    {
      "metadata": {
        "_cell_guid": "83559599-aa99-4ba5-a222-50e1ad072223",
        "collapsed": true,
        "_uuid": "57f7360193408c8632ab7421420a6cf9bce27cdf",
        "trusted": false
      },
      "cell_type": "code",
      "source": "x_train['item_description'].dropna(axis=0, how='any',inplace = True)",
      "execution_count": null,
      "outputs": []
    },
    {
      "metadata": {
        "_cell_guid": "73037a22-9b0b-49f3-b8db-33cd6b5e82ba",
        "_uuid": "7dc09391ea33be2e0d84075aeb7f956b6dde3bae",
        "trusted": false,
        "collapsed": true
      },
      "cell_type": "code",
      "source": "x_train.shape",
      "execution_count": null,
      "outputs": []
    },
    {
      "metadata": {
        "_cell_guid": "e26cfca8-44a1-4720-9cae-f856a23a1b52",
        "_uuid": "040ff780c9f7d2262df699af8a9ed5015de3f043",
        "trusted": false,
        "collapsed": true
      },
      "cell_type": "code",
      "source": "x_train['item_description'].isnull().sum()",
      "execution_count": null,
      "outputs": []
    },
    {
      "metadata": {
        "_cell_guid": "a6748257-e43d-4c03-9e48-552537e99758",
        "collapsed": true,
        "_uuid": "3761491e83b8e706504d2df22b2864c51f8ce180",
        "trusted": false
      },
      "cell_type": "code",
      "source": "tok = x_train['item_description'].map(tokenizeW).tolist()",
      "execution_count": null,
      "outputs": []
    },
    {
      "metadata": {
        "_cell_guid": "cfb865f8-4a6e-483f-8827-d0ab12187ff8",
        "collapsed": true,
        "_uuid": "57baa642494cba21c25bed786034b6c0917f16d4",
        "trusted": false
      },
      "cell_type": "code",
      "source": "import gensim",
      "execution_count": null,
      "outputs": []
    },
    {
      "metadata": {
        "_cell_guid": "ece517de-ba52-4957-9b9b-3c731c17aa83",
        "collapsed": true,
        "_uuid": "94987c0e77a4173f7087c575758ef502fb262cb6",
        "trusted": false
      },
      "cell_type": "code",
      "source": "w2v_model=gensim.models.Word2Vec(tok,min_count=1,size=50, workers=4)",
      "execution_count": null,
      "outputs": []
    },
    {
      "metadata": {
        "_cell_guid": "4603dd74-75d9-417e-8aab-bdb81da4ca89",
        "collapsed": true,
        "_uuid": "beaca0491f58f47b1dd3a8c61a306efc04e937ad",
        "trusted": false
      },
      "cell_type": "code",
      "source": "from gensim.models import KeyedVectors",
      "execution_count": null,
      "outputs": []
    },
    {
      "metadata": {
        "_cell_guid": "4cda654e-fde8-4aab-8c91-135ca4260e90",
        "collapsed": true,
        "_uuid": "05e27dba5166866b8fd1b43c68717b4f5d35c9c1",
        "trusted": false
      },
      "cell_type": "code",
      "source": "w2v_model.save('w2v_model')",
      "execution_count": null,
      "outputs": []
    },
    {
      "metadata": {
        "_cell_guid": "79ca0215-3409-4e6e-a4a5-2ed659027187",
        "collapsed": true,
        "_uuid": "ccb24573e242746b3b1a4114c98bad0522f4166b",
        "trusted": false
      },
      "cell_type": "code",
      "source": "model = gensim.models.Word2Vec.load('w2v_model') ",
      "execution_count": null,
      "outputs": []
    },
    {
      "metadata": {
        "_cell_guid": "dd09453a-67a3-4fc8-a8fb-f78b7a529061",
        "_uuid": "039998cd0a4b59a056039023b060bbcc086e3ed0",
        "trusted": false,
        "collapsed": true
      },
      "cell_type": "code",
      "source": "model.wv['pink']",
      "execution_count": null,
      "outputs": []
    },
    {
      "metadata": {
        "_cell_guid": "28ffadb8-8e52-4281-8903-105b3876fb36",
        "_uuid": "caa9008fb12bea325aaadd28cf852e0c17fcfbe9",
        "trusted": false,
        "collapsed": true
      },
      "cell_type": "code",
      "source": "words = list(w2v_model.wv.vocab)\nprint(len(words))",
      "execution_count": null,
      "outputs": []
    },
    {
      "metadata": {
        "_cell_guid": "86ade6a5-6230-4c55-97f8-e9ac2a525b86",
        "_uuid": "bd2cdec1943050d6101b5ebb69b3b3ee724864f9",
        "trusted": false,
        "collapsed": true
      },
      "cell_type": "code",
      "source": "words[:5]",
      "execution_count": null,
      "outputs": []
    },
    {
      "metadata": {
        "_cell_guid": "bbf13128-3a5f-4f16-ab5b-8c4dc763bb90",
        "_uuid": "4ca134361ac5fce63ed5a677bd0e6d378a2e7c1f",
        "trusted": false,
        "collapsed": true
      },
      "cell_type": "code",
      "source": "w2v_model.wv['family']",
      "execution_count": null,
      "outputs": []
    },
    {
      "metadata": {
        "_cell_guid": "18dd4826-1a1f-4d71-9439-f2b75f3453bf",
        "collapsed": true,
        "_uuid": "73136df41109a45ffc1f373315544e2ffc21398c",
        "trusted": false
      },
      "cell_type": "code",
      "source": "x_train['tok']",
      "execution_count": null,
      "outputs": []
    },
    {
      "metadata": {
        "_cell_guid": "363ae404-dd52-4aec-9626-c6de0807f7d1",
        "_uuid": "97f46506dad19b4a818fbcb62db75c4e5715975b",
        "trusted": false,
        "collapsed": true
      },
      "cell_type": "code",
      "source": "X = model[model.wv.vocab]",
      "execution_count": null,
      "outputs": []
    },
    {
      "metadata": {
        "_cell_guid": "e8cc8864-b18e-4d9c-88c8-3aa6440379ac",
        "_uuid": "973f4fa44c1899748f594817def955a2436bd30b",
        "trusted": false,
        "collapsed": true
      },
      "cell_type": "code",
      "source": "X",
      "execution_count": null,
      "outputs": []
    },
    {
      "metadata": {
        "_cell_guid": "c4600a16-f823-41e2-ad23-32da1bbc974f",
        "_uuid": "dcd5f6849a85e192b1ea1b233ccbd636ee613f7f",
        "trusted": false,
        "collapsed": true
      },
      "cell_type": "code",
      "source": "def mapWord(sent):\n    lis = ()\n    for word in sent:\n         try: np.concatenate(lis,model.wv[word])\n         except: print(word + \" Not in dict\")\n    return lis",
      "execution_count": null,
      "outputs": []
    },
    {
      "metadata": {
        "_cell_guid": "581dae8a-a877-4d87-9959-50f7f04ed2ce",
        "_uuid": "3821b789551a1200a8f5c776946ea886cb18a141",
        "trusted": false,
        "collapsed": true
      },
      "cell_type": "code",
      "source": "type(model.wv['good'])\n",
      "execution_count": null,
      "outputs": []
    },
    {
      "metadata": {
        "_cell_guid": "9028acf5-89db-4745-92d4-722afe1f0438",
        "_uuid": "9b48cefd8ca0cb15eed8e2ce2a16c0d45e28105f",
        "trusted": false,
        "collapsed": true
      },
      "cell_type": "code",
      "source": "x_train['descp_embd'] = x_train['item_description'].map(mapWord)",
      "execution_count": null,
      "outputs": []
    },
    {
      "metadata": {
        "_cell_guid": "3787d1a7-cc7a-4a79-8ce9-364ceb7f324b",
        "_uuid": "bfd1b4b326d948977824788bbe6a3727691aace5",
        "trusted": false,
        "collapsed": true
      },
      "cell_type": "code",
      "source": "x_train['descp_embd'].",
      "execution_count": null,
      "outputs": []
    },
    {
      "metadata": {
        "_cell_guid": "64546d9c-fc29-404a-abf4-d227c1394320",
        "collapsed": true,
        "_uuid": "7aa739e50109662486c467df07a561f9ec69f39b",
        "trusted": false
      },
      "cell_type": "code",
      "source": "#model.wv['Super warm']",
      "execution_count": null,
      "outputs": []
    },
    {
      "metadata": {
        "_cell_guid": "bf5d836e-b045-4a0b-bd04-fc7c99cc1534",
        "collapsed": true,
        "_uuid": "efbdd98d3c01eb87d94c7b4a255c232e66e127f1",
        "trusted": false
      },
      "cell_type": "code",
      "source": "import pickle",
      "execution_count": null,
      "outputs": []
    },
    {
      "metadata": {
        "_cell_guid": "73badcb8-44f1-417c-b1d2-513be38d059d",
        "collapsed": true,
        "_uuid": "fed7fe8f0856ad2e44884b06e6ff585976c41767",
        "trusted": false
      },
      "cell_type": "code",
      "source": "model = KeyedVectors.load_word2vec_format('GoogleNews-vectors-negative300.bin', binary=True)",
      "execution_count": null,
      "outputs": []
    },
    {
      "metadata": {
        "_cell_guid": "1cca6249-2d2f-49b8-ab6f-5c40cd69e7ff",
        "collapsed": true,
        "_uuid": "9ed36ca2adc47628125e07411206012e33236b90",
        "trusted": false
      },
      "cell_type": "code",
      "source": "",
      "execution_count": null,
      "outputs": []
    },
    {
      "metadata": {
        "_cell_guid": "ba20a9df-30b5-4b35-bf80-ec23e192acf7",
        "collapsed": true,
        "_uuid": "55770ceb1c45b336d2f5eca56feaeedbf88cb0ff",
        "trusted": false
      },
      "cell_type": "code",
      "source": "",
      "execution_count": null,
      "outputs": []
    },
    {
      "metadata": {
        "_cell_guid": "674d982f-5765-4281-9084-a398f32775a7",
        "collapsed": true,
        "_uuid": "d399a2dcb97f6c0643f4a3420e8eefe10748bb5f",
        "trusted": false
      },
      "cell_type": "code",
      "source": "",
      "execution_count": null,
      "outputs": []
    }
  ],
  "metadata": {
    "kernelspec": {
      "display_name": "Python 3",
      "language": "python",
      "name": "python3"
    },
    "language_info": {
      "codemirror_mode": {
        "version": 3,
        "name": "ipython"
      },
      "mimetype": "text/x-python",
      "nbconvert_exporter": "python",
      "pygments_lexer": "ipython3",
      "file_extension": ".py",
      "version": "3.6.4",
      "name": "python"
    }
  },
  "nbformat": 4,
  "nbformat_minor": 1
}